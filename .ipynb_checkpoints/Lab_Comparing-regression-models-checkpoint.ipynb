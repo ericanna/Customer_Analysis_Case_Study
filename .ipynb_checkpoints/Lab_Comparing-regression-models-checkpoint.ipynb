{
 "cells": [
  {
   "cell_type": "markdown",
   "id": "d6c6cfd3",
   "metadata": {},
   "source": [
    "# Lab | Comparing regression models"
   ]
  },
  {
   "cell_type": "code",
   "execution_count": 6,
   "id": "69aa40c0",
   "metadata": {},
   "outputs": [],
   "source": [
    "import numpy as np\n",
    "import pandas as pd\n",
    "import matplotlib.pyplot as plt\n",
    "%matplotlib inline\n",
    "import seaborn as sns\n",
    "from sklearn.preprocessing import StandardScaler\n",
    "from sklearn.compose import ColumnTransformer\n",
    "from sklearn.linear_model import Lasso,Ridge,ElasticNet, LinearRegression\n",
    "from sklearn.model_selection import train_test_split\n",
    "\n",
    "import statsmodels.api as sm\n",
    "from sklearn.metrics import r2_score\n",
    "from sklearn.metrics import mean_squared_error as mse\n",
    "from sklearn.metrics import mean_absolute_error as mae\n",
    "pd.options.display.max_rows = 50\n",
    "\n",
    "import warnings\n",
    "warnings.filterwarnings(\"ignore\")\n"
   ]
  },
  {
   "cell_type": "code",
   "execution_count": 7,
   "id": "4ff662e0",
   "metadata": {},
   "outputs": [],
   "source": [
    "clean_df = pd.read_csv(\"Data_Marketing_Customer_Analysis_Round3.csv\")\n",
    "\n",
    "RAND_STATE = 34"
   ]
  },
  {
   "cell_type": "code",
   "execution_count": 8,
   "id": "5a903bfe",
   "metadata": {},
   "outputs": [],
   "source": [
    "numerical_df = clean_df.select_dtypes(include=np.number)\n",
    "\n",
    "X = numerical_df.drop(['total_claim_amount'], axis = 1)\n",
    "y = numerical_df.total_claim_amount\n",
    "\n",
    "X_train, X_test, y_train, y_test = train_test_split(X, y, test_size = 30, random_state = RAND_STATE)\n",
    "X_train = pd.DataFrame(X_train)\n",
    "X_test = pd.DataFrame(X_test)"
   ]
  },
  {
   "cell_type": "code",
   "execution_count": 27,
   "id": "3aef61f8",
   "metadata": {},
   "outputs": [],
   "source": [
    "scaler = StandardScaler()\n",
    "X_train_s = pd.DataFrame(scaler.fit_transform(X_train), columns=X.columns)\n",
    "X_test_s = scaler.transform(X_test)"
   ]
  },
  {
   "cell_type": "markdown",
   "id": "533e96e6",
   "metadata": {},
   "source": [
    "## Monday, 20.02.2023\n",
    "### Activity 1: fit the models LinearRegression, Lasso and Ridge and compare the model performances."
   ]
  },
  {
   "cell_type": "code",
   "execution_count": 11,
   "id": "5139a087",
   "metadata": {
    "scrolled": true
   },
   "outputs": [
    {
     "name": "stdout",
     "output_type": "stream",
     "text": [
      "LinearRegression: Train -> 0.4101208388205483, Test -> 0.31732897879716015\n"
     ]
    }
   ],
   "source": [
    "#Applying Linear regression:\n",
    "\n",
    "model=LinearRegression()\n",
    "model.fit(X_train_s, y_train)\n",
    "print(f\"{model.__class__.__name__}: Train -> {model.score(X_train_s, y_train)}, Test -> {model.score(X_test_s, y_test)}\")"
   ]
  },
  {
   "cell_type": "code",
   "execution_count": 21,
   "id": "7a75765f",
   "metadata": {},
   "outputs": [
    {
     "data": {
      "text/plain": [
       "array([ -7.37925164, -31.81313268, 187.30091363,   1.26028882,\n",
       "        -1.96585614,  -1.0055951 ,   1.14839999])"
      ]
     },
     "execution_count": 21,
     "metadata": {},
     "output_type": "execute_result"
    }
   ],
   "source": [
    "model.coef_"
   ]
  },
  {
   "cell_type": "code",
   "execution_count": 15,
   "id": "f3c250a4",
   "metadata": {},
   "outputs": [
    {
     "name": "stdout",
     "output_type": "stream",
     "text": [
      "Lasso: Train -> 0.4101208388205483, Test -> 0.3173289787971606\n"
     ]
    }
   ],
   "source": [
    "#Applying Lasso:\n",
    "\n",
    "model=Lasso(alpha=0)\n",
    "model.fit(X_train_s, y_train)\n",
    "print(f\"{model.__class__.__name__}: Train -> {model.score(X_train_s, y_train)}, Test -> {model.score(X_test_s, y_test)}\")"
   ]
  },
  {
   "cell_type": "code",
   "execution_count": 19,
   "id": "42c1739b",
   "metadata": {},
   "outputs": [
    {
     "name": "stdout",
     "output_type": "stream",
     "text": [
      "Ridge: Train -> 0.4101208388205483, Test -> 0.3173289787971606\n"
     ]
    }
   ],
   "source": [
    "#Applying Ridge:\n",
    "\n",
    "model=Ridge(alpha=0)\n",
    "model.fit(X_train_s, y_train)\n",
    "print(f\"{model.__class__.__name__}: Train -> {model.score(X_train_s, y_train)}, Test -> {model.score(X_test_s, y_test)}\")"
   ]
  },
  {
   "cell_type": "markdown",
   "id": "d94ad31f",
   "metadata": {},
   "source": [
    "### Activity 2: use feature selection techniques (P-Value, RFE) to select subset of features to train the model with (if necessary)."
   ]
  },
  {
   "cell_type": "code",
   "execution_count": 28,
   "id": "932c5ea5",
   "metadata": {},
   "outputs": [
    {
     "name": "stdout",
     "output_type": "stream",
     "text": [
      "Fitting estimator with 7 features.\n",
      "Fitting estimator with 6 features.\n",
      "Fitting estimator with 5 features.\n",
      "Fitting estimator with 4 features.\n",
      "Final selected features: \n"
     ]
    },
    {
     "data": {
      "text/html": [
       "<div>\n",
       "<style scoped>\n",
       "    .dataframe tbody tr th:only-of-type {\n",
       "        vertical-align: middle;\n",
       "    }\n",
       "\n",
       "    .dataframe tbody tr th {\n",
       "        vertical-align: top;\n",
       "    }\n",
       "\n",
       "    .dataframe thead th {\n",
       "        text-align: right;\n",
       "    }\n",
       "</style>\n",
       "<table border=\"1\" class=\"dataframe\">\n",
       "  <thead>\n",
       "    <tr style=\"text-align: right;\">\n",
       "      <th></th>\n",
       "      <th>customer_lifetime_value</th>\n",
       "      <th>income</th>\n",
       "      <th>monthly_premium_auto</th>\n",
       "    </tr>\n",
       "  </thead>\n",
       "  <tbody>\n",
       "    <tr>\n",
       "      <th>0</th>\n",
       "      <td>1.212836</td>\n",
       "      <td>-0.900892</td>\n",
       "      <td>1.533803</td>\n",
       "    </tr>\n",
       "    <tr>\n",
       "      <th>1</th>\n",
       "      <td>-0.804404</td>\n",
       "      <td>-1.112906</td>\n",
       "      <td>-0.847931</td>\n",
       "    </tr>\n",
       "    <tr>\n",
       "      <th>2</th>\n",
       "      <td>1.634978</td>\n",
       "      <td>-0.637175</td>\n",
       "      <td>1.911395</td>\n",
       "    </tr>\n",
       "    <tr>\n",
       "      <th>3</th>\n",
       "      <td>-0.585338</td>\n",
       "      <td>0.938261</td>\n",
       "      <td>0.226754</td>\n",
       "    </tr>\n",
       "    <tr>\n",
       "      <th>4</th>\n",
       "      <td>-0.644211</td>\n",
       "      <td>0.951419</td>\n",
       "      <td>-0.092747</td>\n",
       "    </tr>\n",
       "    <tr>\n",
       "      <th>...</th>\n",
       "      <td>...</td>\n",
       "      <td>...</td>\n",
       "      <td>...</td>\n",
       "    </tr>\n",
       "    <tr>\n",
       "      <th>10654</th>\n",
       "      <td>-0.197938</td>\n",
       "      <td>-0.302545</td>\n",
       "      <td>0.168663</td>\n",
       "    </tr>\n",
       "    <tr>\n",
       "      <th>10655</th>\n",
       "      <td>0.452428</td>\n",
       "      <td>-0.192361</td>\n",
       "      <td>0.546255</td>\n",
       "    </tr>\n",
       "    <tr>\n",
       "      <th>10656</th>\n",
       "      <td>-0.784198</td>\n",
       "      <td>1.879915</td>\n",
       "      <td>-0.818886</td>\n",
       "    </tr>\n",
       "    <tr>\n",
       "      <th>10657</th>\n",
       "      <td>-0.672267</td>\n",
       "      <td>-1.154477</td>\n",
       "      <td>-0.150838</td>\n",
       "    </tr>\n",
       "    <tr>\n",
       "      <th>10658</th>\n",
       "      <td>0.065174</td>\n",
       "      <td>1.944290</td>\n",
       "      <td>0.633391</td>\n",
       "    </tr>\n",
       "  </tbody>\n",
       "</table>\n",
       "<p>10659 rows × 3 columns</p>\n",
       "</div>"
      ],
      "text/plain": [
       "       customer_lifetime_value    income  monthly_premium_auto\n",
       "0                     1.212836 -0.900892              1.533803\n",
       "1                    -0.804404 -1.112906             -0.847931\n",
       "2                     1.634978 -0.637175              1.911395\n",
       "3                    -0.585338  0.938261              0.226754\n",
       "4                    -0.644211  0.951419             -0.092747\n",
       "...                        ...       ...                   ...\n",
       "10654                -0.197938 -0.302545              0.168663\n",
       "10655                 0.452428 -0.192361              0.546255\n",
       "10656                -0.784198  1.879915             -0.818886\n",
       "10657                -0.672267 -1.154477             -0.150838\n",
       "10658                 0.065174  1.944290              0.633391\n",
       "\n",
       "[10659 rows x 3 columns]"
      ]
     },
     "metadata": {},
     "output_type": "display_data"
    }
   ],
   "source": [
    "#Applying RFE:\n",
    "\n",
    "from sklearn.feature_selection import RFE\n",
    "\n",
    "lm = LinearRegression()\n",
    "\n",
    "selector = RFE(lm, n_features_to_select= 3, step = 1, verbose = 1)\n",
    "selector.fit(X_train_s, y_train)\n",
    "\n",
    "kept_features = selector.get_support(indices = True)\n",
    "kept_features = list(X_train_s.iloc[:,kept_features].columns)\n",
    "\n",
    "X_train_s = selector.transform(X_train_s)\n",
    "X_test_s = selector.transform(X_test_s)\n",
    "\n",
    "X_train_s = pd.DataFrame(X_train_s, columns=kept_features)\n",
    "X_test_s = pd.DataFrame(X_test_s, columns=kept_features)\n",
    "\n",
    "print(\"Final selected features: \")\n",
    "display(X_train_s)"
   ]
  },
  {
   "cell_type": "markdown",
   "id": "2a01660a",
   "metadata": {},
   "source": [
    "### Optional: refit the models with the selected features."
   ]
  },
  {
   "cell_type": "code",
   "execution_count": 29,
   "id": "69973274",
   "metadata": {},
   "outputs": [],
   "source": [
    "numerical_df = clean_df[[\"customer_lifetime_value\", \"income\", \"monthly_premium_auto\", \"total_claim_amount\"]]\n",
    "\n",
    "X = numerical_df.drop(['total_claim_amount'], axis = 1)\n",
    "y = numerical_df.total_claim_amount\n",
    "\n",
    "X_train, X_test, y_train, y_test = train_test_split(X, y, test_size = 30, random_state = RAND_STATE)\n",
    "X_train = pd.DataFrame(X_train)\n",
    "X_test = pd.DataFrame(X_test)"
   ]
  },
  {
   "cell_type": "code",
   "execution_count": 30,
   "id": "9aa4448b",
   "metadata": {},
   "outputs": [],
   "source": [
    "scaler = StandardScaler()\n",
    "X_train_s = pd.DataFrame(scaler.fit_transform(X_train), columns=X.columns)\n",
    "X_test_s = scaler.transform(X_test)"
   ]
  },
  {
   "cell_type": "code",
   "execution_count": 31,
   "id": "b31bd6b8",
   "metadata": {},
   "outputs": [
    {
     "name": "stdout",
     "output_type": "stream",
     "text": [
      "LinearRegression: Train -> 0.41002725773733406, Test -> 0.31372976126729446\n"
     ]
    }
   ],
   "source": [
    "model=LinearRegression()\n",
    "model.fit(X_train_s, y_train)\n",
    "print(f\"{model.__class__.__name__}: Train -> {model.score(X_train_s, y_train)}, Test -> {model.score(X_test_s, y_test)}\")"
   ]
  },
  {
   "cell_type": "code",
   "execution_count": null,
   "id": "61424005",
   "metadata": {},
   "outputs": [],
   "source": []
  }
 ],
 "metadata": {
  "kernelspec": {
   "display_name": "Python 3 (ipykernel)",
   "language": "python",
   "name": "python3"
  },
  "language_info": {
   "codemirror_mode": {
    "name": "ipython",
    "version": 3
   },
   "file_extension": ".py",
   "mimetype": "text/x-python",
   "name": "python",
   "nbconvert_exporter": "python",
   "pygments_lexer": "ipython3",
   "version": "3.9.13"
  }
 },
 "nbformat": 4,
 "nbformat_minor": 5
}
