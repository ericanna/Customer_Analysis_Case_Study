{
 "cells": [
  {
   "cell_type": "markdown",
   "id": "d6c6cfd3",
   "metadata": {},
   "source": [
    "# Linear Regression Lab"
   ]
  },
  {
   "cell_type": "code",
   "execution_count": 1,
   "id": "69aa40c0",
   "metadata": {},
   "outputs": [],
   "source": [
    "import numpy as np\n",
    "import pandas as pd\n",
    "import matplotlib.pyplot as plt\n",
    "%matplotlib inline\n",
    "import seaborn as sns\n",
    "from sklearn.preprocessing import StandardScaler\n",
    "from sklearn.compose import ColumnTransformer\n",
    "from sklearn.linear_model import LinearRegression\n",
    "from sklearn.model_selection import train_test_split\n",
    "\n",
    "import statsmodels.api as sm\n",
    "from sklearn.metrics import r2_score\n",
    "from sklearn.metrics import mean_squared_error as mse\n",
    "from sklearn.metrics import mean_absolute_error as mae\n",
    "pd.options.display.max_rows = 50"
   ]
  },
  {
   "cell_type": "code",
   "execution_count": 2,
   "id": "4ff662e0",
   "metadata": {},
   "outputs": [],
   "source": [
    "clean_df = pd.read_csv(\"Data_Marketing_Customer_Analysis_Round3.csv\")\n",
    "\n",
    "RAND_STATE = 34 # for reproducible shuffling"
   ]
  },
  {
   "cell_type": "code",
   "execution_count": 3,
   "id": "82b80158",
   "metadata": {},
   "outputs": [],
   "source": [
    "# Using the np.number and object methods to segregate the numerical data types and categorical data types\n",
    "# respectively, since for now we will only use the numerical variables.\n",
    "\n",
    "numerical_df = clean_df.select_dtypes(include=np.number)\n",
    "categorical_df = clean_df.select_dtypes(include=object)"
   ]
  },
  {
   "cell_type": "markdown",
   "id": "3ee6b352",
   "metadata": {},
   "source": [
    "### Tuesday (31.01.2023)\n",
    "\n",
    "\n",
    "#### Activity 1:\n",
    "X-y split (y is the target variable, which is the total claim amount)."
   ]
  },
  {
   "cell_type": "code",
   "execution_count": 4,
   "id": "5a903bfe",
   "metadata": {},
   "outputs": [],
   "source": [
    "X = numerical_df.drop(['total_claim_amount'], axis = 1)\n",
    "y = numerical_df.total_claim_amount"
   ]
  },
  {
   "cell_type": "markdown",
   "id": "d1a9defb",
   "metadata": {},
   "source": [
    "#### Activity 2:\n",
    "Train-test split."
   ]
  },
  {
   "cell_type": "code",
   "execution_count": 5,
   "id": "83cd9880",
   "metadata": {},
   "outputs": [],
   "source": [
    "X_train, X_test, y_train, y_test = train_test_split(X, y, test_size = 30, random_state = RAND_STATE)\n",
    "X_train = pd.DataFrame(X_train)\n",
    "X_test = pd.DataFrame(X_test)"
   ]
  },
  {
   "cell_type": "markdown",
   "id": "5b87f6f9",
   "metadata": {},
   "source": [
    "#### Activity 3:\n",
    "Standardize the data (after the data split)."
   ]
  },
  {
   "cell_type": "code",
   "execution_count": 6,
   "id": "3aef61f8",
   "metadata": {},
   "outputs": [],
   "source": [
    "scaler = StandardScaler()\n",
    "X_train_s = scaler.fit_transform(X_train) # get the parameters using the train set and apply to them"
   ]
  },
  {
   "cell_type": "code",
   "execution_count": 7,
   "id": "1e3d9266",
   "metadata": {},
   "outputs": [],
   "source": [
    "X_test_s = scaler.transform(X_test) # apply the parameters of the train set to the test set\n",
    "\n",
    "# You don't transform the target feature."
   ]
  },
  {
   "cell_type": "markdown",
   "id": "c6e37e3b",
   "metadata": {},
   "source": [
    "#### Activity 4:\n",
    "Apply linear regression."
   ]
  },
  {
   "cell_type": "code",
   "execution_count": 8,
   "id": "5139a087",
   "metadata": {},
   "outputs": [],
   "source": [
    "X_train_const = sm.add_constant(X_train_s)\n",
    "\n",
    "model = sm.OLS(y_train, X_train_const).fit()\n",
    "y_pred_train = model.predict(X_train_const)\n",
    "\n",
    "X_test_const = sm.add_constant(X_test_s)\n",
    "y_pred_test = model.predict(X_test_const)"
   ]
  },
  {
   "cell_type": "markdown",
   "id": "f1fa77f0",
   "metadata": {},
   "source": [
    "#### Activity 5:\n",
    "Model Interpretation."
   ]
  },
  {
   "cell_type": "code",
   "execution_count": 9,
   "id": "20c7ba3d",
   "metadata": {},
   "outputs": [
    {
     "name": "stdout",
     "output_type": "stream",
     "text": [
      "                            OLS Regression Results                            \n",
      "==============================================================================\n",
      "Dep. Variable:     total_claim_amount   R-squared:                       0.410\n",
      "Model:                            OLS   Adj. R-squared:                  0.410\n",
      "Method:                 Least Squares   F-statistic:                     1058.\n",
      "Date:                Fri, 03 Feb 2023   Prob (F-statistic):               0.00\n",
      "Time:                        16:25:30   Log-Likelihood:                -72834.\n",
      "No. Observations:               10659   AIC:                         1.457e+05\n",
      "Df Residuals:                   10651   BIC:                         1.457e+05\n",
      "Df Model:                           7                                         \n",
      "Covariance Type:            nonrobust                                         \n",
      "==============================================================================\n",
      "                 coef    std err          t      P>|t|      [0.025      0.975]\n",
      "------------------------------------------------------------------------------\n",
      "const        434.2805      2.176    199.587      0.000     430.015     438.546\n",
      "x1            -7.3793      2.382     -3.098      0.002     -12.049      -2.710\n",
      "x2           -31.8131      2.177    -14.612      0.000     -36.081     -27.546\n",
      "x3           187.3009      2.381     78.663      0.000     182.634     191.968\n",
      "x4             1.2603      2.178      0.579      0.563      -3.009       5.530\n",
      "x5            -1.9659      2.178     -0.903      0.367      -6.235       2.303\n",
      "x6            -1.0056      2.177     -0.462      0.644      -5.274       3.263\n",
      "x7             1.1484      2.177      0.527      0.598      -3.119       5.416\n",
      "==============================================================================\n",
      "Omnibus:                     1215.324   Durbin-Watson:                   1.996\n",
      "Prob(Omnibus):                  0.000   Jarque-Bera (JB):             6032.963\n",
      "Skew:                           0.449   Prob(JB):                         0.00\n",
      "Kurtosis:                       6.575   Cond. No.                         1.54\n",
      "==============================================================================\n",
      "\n",
      "Notes:\n",
      "[1] Standard Errors assume that the covariance matrix of the errors is correctly specified.\n"
     ]
    }
   ],
   "source": [
    "print(model.summary())"
   ]
  },
  {
   "cell_type": "markdown",
   "id": "91cf6a3f",
   "metadata": {},
   "source": [
    "### Wednesday (01.02.2023)\n",
    "\n",
    "#### Model Evaluation - activities:\n",
    "- MSE\n",
    "- RMSE\n",
    "- MAE\n",
    "- R2\n",
    "- Adjusted R2\n",
    "- Feature Importance\n"
   ]
  },
  {
   "cell_type": "code",
   "execution_count": 10,
   "id": "d159aca3",
   "metadata": {},
   "outputs": [
    {
     "name": "stdout",
     "output_type": "stream",
     "text": [
      "50427.47391684814\n",
      "80055.97276654038\n"
     ]
    }
   ],
   "source": [
    "# Calculating the MSE - Mean squared error for both the train and test set:\n",
    "\n",
    "print(mse(y_train, y_pred_train))\n",
    "print(mse(y_test, y_pred_test))\n",
    "\n",
    "# You can see that the MSE is bigger for the test set than for the train set, which is expected."
   ]
  },
  {
   "cell_type": "code",
   "execution_count": 11,
   "id": "6d45f783",
   "metadata": {},
   "outputs": [
    {
     "name": "stdout",
     "output_type": "stream",
     "text": [
      "224.56062414601573\n",
      "282.94164198035674\n"
     ]
    }
   ],
   "source": [
    "# Calculating the RMSE - Root mean squared error for both the train and test set:\n",
    "\n",
    "import math\n",
    "\n",
    "print(math.sqrt(mse(y_train, y_pred_train)))\n",
    "print(math.sqrt(mse(y_test, y_pred_test)))"
   ]
  },
  {
   "cell_type": "code",
   "execution_count": 12,
   "id": "7a5cc70a",
   "metadata": {},
   "outputs": [
    {
     "name": "stdout",
     "output_type": "stream",
     "text": [
      "152.43643057559507\n",
      "189.6765386550149\n"
     ]
    }
   ],
   "source": [
    "# Calculating the MAE - Mean Absolute Error for both the train and test set:\n",
    "\n",
    "print(mae(y_train, y_pred_train))\n",
    "print(mae(y_test, y_pred_test))"
   ]
  },
  {
   "cell_type": "code",
   "execution_count": 13,
   "id": "91a17990",
   "metadata": {},
   "outputs": [
    {
     "name": "stdout",
     "output_type": "stream",
     "text": [
      "0.4101208388205483\n",
      "0.3173289787971604\n"
     ]
    }
   ],
   "source": [
    "# Calculating the R2 for both the train and test set:\n",
    "\n",
    "print(r2_score(y_train, y_pred_train))\n",
    "print(r2_score(y_test, y_pred_test))\n",
    "\n",
    "# Again, the \"performance\" of the model is better on the train set (higher R2) than in the test set."
   ]
  },
  {
   "cell_type": "code",
   "execution_count": 14,
   "id": "c5359d87",
   "metadata": {},
   "outputs": [
    {
     "name": "stdout",
     "output_type": "stream",
     "text": [
      "0.40973316121954795\n"
     ]
    }
   ],
   "source": [
    "# Calculating the adjusted R2 of the train set:\n",
    "\n",
    "print(model.rsquared_adj)"
   ]
  },
  {
   "cell_type": "code",
   "execution_count": 15,
   "id": "f4968837",
   "metadata": {},
   "outputs": [],
   "source": [
    "# Getting a data frame with the feature importance in the model\n",
    "\n",
    "params = pd.DataFrame({\"features\": X_train.columns, \"coef\": abs(model.params).drop(\"const\")})"
   ]
  },
  {
   "cell_type": "code",
   "execution_count": 16,
   "id": "b8862248",
   "metadata": {},
   "outputs": [
    {
     "data": {
      "text/html": [
       "<div>\n",
       "<style scoped>\n",
       "    .dataframe tbody tr th:only-of-type {\n",
       "        vertical-align: middle;\n",
       "    }\n",
       "\n",
       "    .dataframe tbody tr th {\n",
       "        vertical-align: top;\n",
       "    }\n",
       "\n",
       "    .dataframe thead th {\n",
       "        text-align: right;\n",
       "    }\n",
       "</style>\n",
       "<table border=\"1\" class=\"dataframe\">\n",
       "  <thead>\n",
       "    <tr style=\"text-align: right;\">\n",
       "      <th></th>\n",
       "      <th>features</th>\n",
       "      <th>coef</th>\n",
       "    </tr>\n",
       "  </thead>\n",
       "  <tbody>\n",
       "    <tr>\n",
       "      <th>x3</th>\n",
       "      <td>monthly_premium_auto</td>\n",
       "      <td>187.300914</td>\n",
       "    </tr>\n",
       "    <tr>\n",
       "      <th>x2</th>\n",
       "      <td>income</td>\n",
       "      <td>31.813133</td>\n",
       "    </tr>\n",
       "    <tr>\n",
       "      <th>x1</th>\n",
       "      <td>customer_lifetime_value</td>\n",
       "      <td>7.379252</td>\n",
       "    </tr>\n",
       "    <tr>\n",
       "      <th>x5</th>\n",
       "      <td>months_since_policy_inception</td>\n",
       "      <td>1.965856</td>\n",
       "    </tr>\n",
       "    <tr>\n",
       "      <th>x4</th>\n",
       "      <td>months_since_last_claim</td>\n",
       "      <td>1.260289</td>\n",
       "    </tr>\n",
       "    <tr>\n",
       "      <th>x7</th>\n",
       "      <td>number_of_policies</td>\n",
       "      <td>1.148400</td>\n",
       "    </tr>\n",
       "    <tr>\n",
       "      <th>x6</th>\n",
       "      <td>number_of_open_complaints</td>\n",
       "      <td>1.005595</td>\n",
       "    </tr>\n",
       "  </tbody>\n",
       "</table>\n",
       "</div>"
      ],
      "text/plain": [
       "                         features        coef\n",
       "x3           monthly_premium_auto  187.300914\n",
       "x2                         income   31.813133\n",
       "x1        customer_lifetime_value    7.379252\n",
       "x5  months_since_policy_inception    1.965856\n",
       "x4        months_since_last_claim    1.260289\n",
       "x7             number_of_policies    1.148400\n",
       "x6      number_of_open_complaints    1.005595"
      ]
     },
     "execution_count": 16,
     "metadata": {},
     "output_type": "execute_result"
    }
   ],
   "source": [
    "features_importances = params.sort_values(by= \"coef\", ascending=False)\n",
    "features_importances"
   ]
  },
  {
   "cell_type": "markdown",
   "id": "79ca976e",
   "metadata": {},
   "source": [
    "#### Model Iteration - activity:\n",
    "\n",
    "Rerun the model after adding the hot encoded categorical variables as well as other numeric categorical variables (e.g. number of open complaintes)."
   ]
  },
  {
   "cell_type": "code",
   "execution_count": 17,
   "id": "12b71f15",
   "metadata": {},
   "outputs": [],
   "source": [
    "# Splitting the dependent and the independent features:\n",
    "\n",
    "X = clean_df.drop(['total_claim_amount'], axis = 1)\n",
    "y = clean_df.total_claim_amount\n",
    "\n",
    "numerical = X.select_dtypes(exclude = object)\n",
    "categorical = pd.get_dummies(X.select_dtypes(include=object),prefix=\"dmy\",drop_first=True)\n",
    "\n",
    "X = pd.concat([numerical,categorical],axis=1)"
   ]
  },
  {
   "cell_type": "code",
   "execution_count": 18,
   "id": "1010ed41",
   "metadata": {},
   "outputs": [],
   "source": [
    "# Test-train split:\n",
    "\n",
    "X_train, X_test, y_train, y_test = train_test_split(X, y, test_size=30, random_state=42)\n",
    "X_train = pd.DataFrame(X_train)\n",
    "X_test = pd.DataFrame(X_test)"
   ]
  },
  {
   "cell_type": "code",
   "execution_count": 19,
   "id": "55e7aa48",
   "metadata": {},
   "outputs": [],
   "source": [
    "# Standard Scaler to the numerical columns:\n",
    "\n",
    "scaler = StandardScaler()\n",
    "X_train[numerical.columns] = scaler.fit_transform(X_train[numerical.columns])\n",
    "X_test[numerical.columns] = scaler.transform(X_test[numerical.columns])"
   ]
  },
  {
   "cell_type": "code",
   "execution_count": 20,
   "id": "83eb0f87",
   "metadata": {},
   "outputs": [],
   "source": [
    "# Applying linear regression:\n",
    "\n",
    "X_train_const = sm.add_constant(X_train)\n",
    "\n",
    "model = sm.OLS(y_train, X_train_const).fit()\n",
    "y_pred_train = model.predict(X_train_const)\n",
    "\n",
    "X_test_const = sm.add_constant(X_test)\n",
    "y_pred_test = model.predict(X_test_const)"
   ]
  },
  {
   "cell_type": "code",
   "execution_count": 21,
   "id": "1f7adca5",
   "metadata": {},
   "outputs": [
    {
     "name": "stdout",
     "output_type": "stream",
     "text": [
      "                            OLS Regression Results                            \n",
      "==============================================================================\n",
      "Dep. Variable:     total_claim_amount   R-squared:                       0.773\n",
      "Model:                            OLS   Adj. R-squared:                  0.771\n",
      "Method:                 Least Squares   F-statistic:                     342.3\n",
      "Date:                Fri, 03 Feb 2023   Prob (F-statistic):               0.00\n",
      "Time:                        16:25:30   Log-Likelihood:                -67755.\n",
      "No. Observations:               10659   AIC:                         1.357e+05\n",
      "Df Residuals:                   10553   BIC:                         1.365e+05\n",
      "Df Model:                         105                                         \n",
      "Covariance Type:            nonrobust                                         \n",
      "=================================================================================================\n",
      "                                    coef    std err          t      P>|t|      [0.025      0.975]\n",
      "-------------------------------------------------------------------------------------------------\n",
      "const                           123.4795     11.861     10.410      0.000     100.229     146.730\n",
      "customer_lifetime_value          -0.5524      1.502     -0.368      0.713      -3.497       2.392\n",
      "income                           -4.9722      1.572     -3.162      0.002      -8.054      -1.890\n",
      "monthly_premium_auto            180.0187      4.025     44.728      0.000     172.129     187.908\n",
      "months_since_last_claim           3.8649      1.371      2.820      0.005       1.178       6.552\n",
      "months_since_policy_inception    -0.1971      1.382     -0.143      0.887      -2.907       2.513\n",
      "number_of_open_complaints        -1.5641      1.368     -1.143      0.253      -4.246       1.118\n",
      "number_of_policies                1.8655      1.382      1.349      0.177      -0.844       4.575\n",
      "dmy_east                          5.6259      5.289      1.064      0.287      -4.741      15.993\n",
      "dmy_north west                   -1.7792      3.617     -0.492      0.623      -8.870       5.312\n",
      "dmy_west region                   3.9784      3.450      1.153      0.249      -2.785      10.742\n",
      "dmy_yes                         -24.9048      4.459     -5.586      0.000     -33.645     -16.165\n",
      "dmy_extended                    -12.8779      3.879     -3.320      0.001     -20.481      -5.274\n",
      "dmy_premium                     -12.1115      7.458     -1.624      0.104     -26.731       2.508\n",
      "dmy_college                      -6.7792      3.553     -1.908      0.056     -13.744       0.185\n",
      "dmy_doctor                      -15.0571      7.615     -1.977      0.048     -29.984      -0.130\n",
      "dmy_high school or below         10.9913      3.599      3.054      0.002       3.937      18.045\n",
      "dmy_master                      -10.1754      5.437     -1.871      0.061     -20.833       0.482\n",
      "dmy_1/10/11                      -2.2553     14.288     -0.158      0.875     -30.262      25.751\n",
      "dmy_1/11/11                     -16.5314     14.941     -1.106      0.269     -45.818      12.755\n",
      "dmy_1/12/11                      -9.9662     16.019     -0.622      0.534     -41.366      21.434\n",
      "dmy_1/13/11                      19.8890     15.334      1.297      0.195     -10.170      49.947\n",
      "dmy_1/14/11                      -6.0910     15.207     -0.401      0.689     -35.899      23.717\n",
      "dmy_1/15/11                      -4.1233     15.391     -0.268      0.789     -34.293      26.046\n",
      "dmy_1/16/11                     -16.5959     15.384     -1.079      0.281     -46.751      13.560\n",
      "dmy_1/17/11                     -14.0283     14.476     -0.969      0.333     -42.404      14.347\n",
      "dmy_1/18/11                     -13.0504     15.135     -0.862      0.389     -42.718      16.617\n",
      "dmy_1/19/11                     -13.9176     14.582     -0.954      0.340     -42.502      14.666\n",
      "dmy_1/2/11                        3.7907     15.090      0.251      0.802     -25.789      33.371\n",
      "dmy_1/20/11                      11.9615     14.932      0.801      0.423     -17.307      41.231\n",
      "dmy_1/21/11                      -9.7170     14.874     -0.653      0.514     -38.874      19.440\n",
      "dmy_1/22/11                      -3.9522     15.899     -0.249      0.804     -35.118      27.214\n",
      "dmy_1/23/11                     -17.5888     15.165     -1.160      0.246     -47.316      12.138\n",
      "dmy_1/24/11                     -31.0638     15.259     -2.036      0.042     -60.974      -1.154\n",
      "dmy_1/25/11                       4.2544     15.501      0.274      0.784     -26.131      34.640\n",
      "dmy_1/26/11                      17.8155     14.575      1.222      0.222     -10.754      46.385\n",
      "dmy_1/27/11                      11.5334     14.280      0.808      0.419     -16.459      39.525\n",
      "dmy_1/28/11                       6.6510     14.829      0.449      0.654     -22.416      35.718\n",
      "dmy_1/29/11                      15.0445     15.210      0.989      0.323     -14.771      44.860\n",
      "dmy_1/3/11                        3.4575     14.617      0.237      0.813     -25.194      32.109\n",
      "dmy_1/30/11                     -24.4476     15.419     -1.586      0.113     -54.671       5.776\n",
      "dmy_1/31/11                     -15.0067     14.612     -1.027      0.304     -43.650      13.636\n",
      "dmy_1/4/11                       -7.5227     16.477     -0.457      0.648     -39.820      24.775\n",
      "dmy_1/5/11                        3.5507     15.022      0.236      0.813     -25.896      32.997\n",
      "dmy_1/6/11                        4.1113     15.628      0.263      0.792     -26.522      34.745\n",
      "dmy_1/7/11                      -17.0241     15.279     -1.114      0.265     -46.974      12.926\n",
      "dmy_1/8/11                      -11.1971     15.189     -0.737      0.461     -40.971      18.577\n",
      "dmy_1/9/11                      -27.9935     15.223     -1.839      0.066     -57.834       1.847\n",
      "dmy_2/1/11                        0.3836     10.433      0.037      0.971     -20.068      20.835\n",
      "dmy_2/10/11                      11.2018     10.261      1.092      0.275      -8.911      31.315\n",
      "dmy_2/11/11                      -3.9080     10.260     -0.381      0.703     -24.020      16.204\n",
      "dmy_2/12/11                       0.2304     10.331      0.022      0.982     -20.020      20.480\n",
      "dmy_2/13/11                      27.8611     10.779      2.585      0.010       6.733      48.989\n",
      "dmy_2/14/11                      -6.4693      9.491     -0.682      0.495     -25.074      12.135\n",
      "dmy_2/15/11                       4.3430     11.095      0.391      0.695     -17.405      26.091\n",
      "dmy_2/16/11                      -0.2109     10.777     -0.020      0.984     -21.335      20.913\n",
      "dmy_2/17/11                      15.6800     11.009      1.424      0.154      -5.901      37.261\n",
      "dmy_2/18/11                      -1.9475     10.279     -0.189      0.850     -22.096      18.201\n",
      "dmy_2/19/11                       9.4393      9.979      0.946      0.344     -10.121      28.999\n",
      "dmy_2/2/11                       22.2876     10.335      2.157      0.031       2.030      42.545\n",
      "dmy_2/20/11                      25.6986     11.116      2.312      0.021       3.909      47.488\n",
      "dmy_2/21/11                      11.1279     10.476      1.062      0.288      -9.408      31.664\n",
      "dmy_2/22/11                      18.1368     10.146      1.788      0.074      -1.751      38.025\n",
      "dmy_2/23/11                     -19.3677     10.607     -1.826      0.068     -40.160       1.425\n",
      "dmy_2/24/11                     -15.2628     10.904     -1.400      0.162     -36.637       6.111\n",
      "dmy_2/25/11                      -0.0715     10.269     -0.007      0.994     -20.201      20.058\n",
      "dmy_2/26/11                      -6.9018      9.923     -0.696      0.487     -26.352      12.548\n",
      "dmy_2/27/11                      12.5917      9.790      1.286      0.198      -6.598      31.782\n",
      "dmy_2/28/11                     -16.4134     10.174     -1.613      0.107     -36.356       3.529\n",
      "dmy_2/3/11                       -5.4528     10.088     -0.541      0.589     -25.227      14.321\n",
      "dmy_2/4/11                       25.0745      9.869      2.541      0.011       5.729      44.420\n",
      "dmy_2/5/11                        6.3654     10.431      0.610      0.542     -14.080      26.811\n",
      "dmy_2/6/11                        3.3827     10.655      0.317      0.751     -17.502      24.268\n",
      "dmy_2/7/11                       10.1909     10.053      1.014      0.311      -9.515      29.897\n",
      "dmy_2/8/11                        1.6899     11.119      0.152      0.879     -20.106      23.486\n",
      "dmy_2/9/11                      -14.4257     10.416     -1.385      0.166     -34.843       5.992\n",
      "dmy_jan                           8.2257     10.734      0.766      0.444     -12.815      29.267\n",
      "dmy_employed                    -11.0025      7.091     -1.552      0.121     -24.902       2.897\n",
      "dmy_medical leave                12.2363      9.068      1.349      0.177      -5.539      30.012\n",
      "dmy_retired                     -10.4238     10.712     -0.973      0.331     -31.421      10.574\n",
      "dmy_unemployed                   78.4586      7.504     10.455      0.000      63.749      93.168\n",
      "dmy_m                            15.5163      2.761      5.621      0.000      10.105      20.927\n",
      "dmy_suburban                    379.8218      3.960     95.919      0.000     372.060     387.584\n",
      "dmy_urban                       222.7950      4.512     49.379      0.000     213.951     231.639\n",
      "dmy_married                      -4.5917      4.072     -1.128      0.260     -12.574       3.391\n",
      "dmy_single                       66.8844      4.677     14.300      0.000      57.716      76.052\n",
      "dmy_personal auto                 1.3189      5.271      0.250      0.802      -9.012      11.650\n",
      "dmy_special auto                 14.4702      7.484      1.933      0.053      -0.200      29.141\n",
      "dmy_corporate l2                 -5.1110      8.683     -0.589      0.556     -22.131      11.910\n",
      "dmy_corporate l3                  0.5354      7.942      0.067      0.946     -15.033      16.104\n",
      "dmy_personal l1                   4.6282      3.383      1.368      0.171      -2.002      11.259\n",
      "dmy_personal l2                  -1.2251      2.934     -0.418      0.676      -6.977       4.527\n",
      "dmy_personal l3                  -2.0842      2.654     -0.785      0.432      -7.287       3.118\n",
      "dmy_special l1                   35.2668     12.673      2.783      0.005      10.426      60.108\n",
      "dmy_special l2                  -11.5555      9.202     -1.256      0.209     -29.593       6.482\n",
      "dmy_special l3                   -9.2411      9.560     -0.967      0.334     -27.981       9.499\n",
      "dmy_offer2                       15.7803      3.446      4.580      0.000       9.026      22.534\n",
      "dmy_offer3                        9.5072      4.121      2.307      0.021       1.428      17.586\n",
      "dmy_offer4                        7.1485      4.847      1.475      0.140      -2.352      16.649\n",
      "dmy_branch                        0.5863      3.435      0.171      0.864      -6.146       7.319\n",
      "dmy_call center                  -0.1078      3.852     -0.028      0.978      -7.659       7.443\n",
      "dmy_web                           2.4810      4.243      0.585      0.559      -5.837      10.799\n",
      "dmy_luxury car                   26.5739     17.492      1.519      0.129      -7.715      60.862\n",
      "dmy_luxury suv                  -19.0269     17.599     -1.081      0.280     -53.524      15.470\n",
      "dmy_sports car                  -24.0958      7.882     -3.057      0.002     -39.546      -8.646\n",
      "dmy_suv                         -16.1532      5.925     -2.726      0.006     -27.767      -4.539\n",
      "dmy_two-door car                 -1.2196      3.587     -0.340      0.734      -8.250       5.811\n",
      "dmy_medsize                      -7.0441      4.543     -1.550      0.121     -15.950       1.862\n",
      "dmy_small                        -0.4781      5.304     -0.090      0.928     -10.874       9.918\n",
      "==============================================================================\n",
      "Omnibus:                     4626.294   Durbin-Watson:                   2.016\n",
      "Prob(Omnibus):                  0.000   Jarque-Bera (JB):            58230.698\n",
      "Skew:                           1.740   Prob(JB):                         0.00\n",
      "Kurtosis:                      13.909   Cond. No.                     3.49e+16\n",
      "==============================================================================\n",
      "\n",
      "Notes:\n",
      "[1] Standard Errors assume that the covariance matrix of the errors is correctly specified.\n",
      "[2] The smallest eigenvalue is 4.49e-29. This might indicate that there are\n",
      "strong multicollinearity problems or that the design matrix is singular.\n"
     ]
    }
   ],
   "source": [
    "# Veryfing the model:\n",
    "\n",
    "print(model.summary()) # way better R2"
   ]
  },
  {
   "cell_type": "code",
   "execution_count": 22,
   "id": "47437d4a",
   "metadata": {},
   "outputs": [
    {
     "name": "stdout",
     "output_type": "stream",
     "text": [
      "0.8136289341329848\n"
     ]
    }
   ],
   "source": [
    "# R2 for the test set:\n",
    "\n",
    "print(r2_score(y_test, y_pred_test))"
   ]
  },
  {
   "cell_type": "markdown",
   "id": "2b2b9196",
   "metadata": {},
   "source": [
    "#### Optional activity:\n",
    "Rerun the model after removing the outliers and compare the results using R2 metric."
   ]
  },
  {
   "cell_type": "code",
   "execution_count": 51,
   "id": "de23c808",
   "metadata": {},
   "outputs": [],
   "source": [
    "from scipy.stats import iqr\n",
    "def remove_outliers(df):\n",
    "    if isinstance(df,pd.core.frame.DataFrame):\n",
    "        Q1 = df.quantile(0.15)\n",
    "        Q3 = df.quantile(0.85)\n",
    "        IQR = Q3 - Q1\n",
    "        trueList = ~((df < (Q1 - 1.5*IQR)) |(df > (Q3 + 1.5*IQR)))\n",
    "    else:\n",
    "        raise TypeError\n",
    "    return trueList"
   ]
  },
  {
   "cell_type": "code",
   "execution_count": 52,
   "id": "9df42636",
   "metadata": {},
   "outputs": [],
   "source": [
    "X = clean_df.drop(['total_claim_amount'], axis = 1)\n",
    "y = clean_df.total_claim_amount\n",
    "\n",
    "numerical = X.select_dtypes(exclude = object)\n",
    "categorical = pd.get_dummies(X.select_dtypes(include=object),prefix=\"dmy\",drop_first=True)\n",
    "\n",
    "non_outliers = remove_outliers(numerical)\n",
    "\n",
    "numerical = numerical[non_outliers.all(1)]\n",
    "categorical = categorical[non_outliers.all(1)]\n",
    "\n",
    "X = pd.concat([numerical,categorical],axis=1)\n",
    "y = y[non_outliers.all(1)]"
   ]
  },
  {
   "cell_type": "code",
   "execution_count": 53,
   "id": "8cb78209",
   "metadata": {},
   "outputs": [],
   "source": [
    "# Train/test splitting:\n",
    "\n",
    "X_train, X_test, y_train, y_test = train_test_split(X, y, test_size=30, random_state=55)\n",
    "X_train = pd.DataFrame(X_train)\n",
    "X_test = pd.DataFrame(X_test)"
   ]
  },
  {
   "cell_type": "code",
   "execution_count": 54,
   "id": "3f525a3a",
   "metadata": {},
   "outputs": [],
   "source": [
    "transformer = StandardScaler()\n",
    "transformer.fit(X_train[numerical.columns] )\n",
    "\n",
    "X_test[numerical.columns] = transformer.transform(X_test[numerical.columns])\n",
    "X_train[numerical.columns] = transformer.transform(X_train[numerical.columns])"
   ]
  },
  {
   "cell_type": "code",
   "execution_count": 55,
   "id": "6e6a39a7",
   "metadata": {},
   "outputs": [],
   "source": [
    "# Applying linear regression:\n",
    "\n",
    "X_train_const = sm.add_constant(X_train)\n",
    "\n",
    "model = sm.OLS(y_train, X_train_const).fit()\n",
    "y_pred_train = model.predict(X_train_const)\n",
    "\n",
    "X_test_const = sm.add_constant(X_test)\n",
    "y_pred_test = model.predict(X_test_const)"
   ]
  },
  {
   "cell_type": "code",
   "execution_count": 56,
   "id": "ae67985f",
   "metadata": {},
   "outputs": [
    {
     "name": "stdout",
     "output_type": "stream",
     "text": [
      "                            OLS Regression Results                            \n",
      "==============================================================================\n",
      "Dep. Variable:     total_claim_amount   R-squared:                       0.757\n",
      "Model:                            OLS   Adj. R-squared:                  0.754\n",
      "Method:                 Least Squares   F-statistic:                     282.5\n",
      "Date:                Fri, 03 Feb 2023   Prob (F-statistic):               0.00\n",
      "Time:                        16:37:18   Log-Likelihood:                -60542.\n",
      "No. Observations:                9633   AIC:                         1.213e+05\n",
      "Df Residuals:                    9527   BIC:                         1.221e+05\n",
      "Df Model:                         105                                         \n",
      "Covariance Type:            nonrobust                                         \n",
      "=================================================================================================\n",
      "                                    coef    std err          t      P>|t|      [0.025      0.975]\n",
      "-------------------------------------------------------------------------------------------------\n",
      "const                           102.3710     11.585      8.836      0.000      79.661     125.081\n",
      "customer_lifetime_value          -1.6561      1.427     -1.161      0.246      -4.453       1.141\n",
      "income                           -5.2142      1.545     -3.375      0.001      -8.243      -2.186\n",
      "monthly_premium_auto            143.4488      3.664     39.151      0.000     136.267     150.631\n",
      "months_since_last_claim           2.6375      1.344      1.963      0.050       0.004       5.271\n",
      "months_since_policy_inception    -2.0136      1.355     -1.486      0.137      -4.670       0.643\n",
      "number_of_open_complaints        -3.1787      1.346     -2.362      0.018      -5.817      -0.541\n",
      "number_of_policies                2.7816      1.359      2.047      0.041       0.118       5.445\n",
      "dmy_east                          4.1566      5.198      0.800      0.424      -6.032      14.345\n",
      "dmy_north west                    0.7798      3.548      0.220      0.826      -6.174       7.734\n",
      "dmy_west region                   5.7921      3.386      1.710      0.087      -0.846      12.430\n",
      "dmy_yes                         -20.4605      4.408     -4.642      0.000     -29.101     -11.820\n",
      "dmy_extended                    -12.7037      3.983     -3.190      0.001     -20.511      -4.897\n",
      "dmy_premium                     -12.8675      7.771     -1.656      0.098     -28.100       2.365\n",
      "dmy_college                      -3.3806      3.487     -0.970      0.332     -10.215       3.454\n",
      "dmy_doctor                       -9.9174      7.483     -1.325      0.185     -24.585       4.750\n",
      "dmy_high school or below          9.9854      3.525      2.833      0.005       3.075      16.895\n",
      "dmy_master                       -5.6973      5.330     -1.069      0.285     -16.145       4.751\n",
      "dmy_1/10/11                       3.4307     14.108      0.243      0.808     -24.225      31.086\n",
      "dmy_1/11/11                     -19.8189     14.727     -1.346      0.178     -48.687       9.049\n",
      "dmy_1/12/11                      -7.1873     15.736     -0.457      0.648     -38.033      23.659\n",
      "dmy_1/13/11                      24.1768     15.113      1.600      0.110      -5.448      53.802\n",
      "dmy_1/14/11                     -12.7674     15.480     -0.825      0.410     -43.111      17.576\n",
      "dmy_1/15/11                       1.2022     15.246      0.079      0.937     -28.682      31.087\n",
      "dmy_1/16/11                     -21.9458     15.331     -1.431      0.152     -51.998       8.107\n",
      "dmy_1/17/11                     -21.6684     14.358     -1.509      0.131     -49.814       6.477\n",
      "dmy_1/18/11                     -19.5497     15.062     -1.298      0.194     -49.075       9.976\n",
      "dmy_1/19/11                     -12.5904     14.437     -0.872      0.383     -40.890      15.709\n",
      "dmy_1/2/11                        4.5774     14.751      0.310      0.756     -24.337      33.492\n",
      "dmy_1/20/11                       7.1792     14.714      0.488      0.626     -21.663      36.021\n",
      "dmy_1/21/11                      -4.8696     14.659     -0.332      0.740     -33.605      23.866\n",
      "dmy_1/22/11                      -7.3427     15.765     -0.466      0.641     -38.245      23.559\n",
      "dmy_1/23/11                     -11.6511     15.055     -0.774      0.439     -41.163      17.860\n",
      "dmy_1/24/11                     -26.6439     15.209     -1.752      0.080     -56.457       3.170\n",
      "dmy_1/25/11                      14.2458     15.379      0.926      0.354     -15.899      44.391\n",
      "dmy_1/26/11                       5.4200     14.395      0.377      0.707     -22.797      33.637\n",
      "dmy_1/27/11                       7.1102     14.100      0.504      0.614     -20.529      34.749\n",
      "dmy_1/28/11                       8.7008     14.625      0.595      0.552     -19.968      37.370\n",
      "dmy_1/29/11                       5.0950     14.992      0.340      0.734     -24.292      34.482\n",
      "dmy_1/3/11                        7.8763     14.346      0.549      0.583     -20.244      35.997\n",
      "dmy_1/30/11                     -19.2696     15.317     -1.258      0.208     -49.295      10.756\n",
      "dmy_1/31/11                     -13.5441     14.549     -0.931      0.352     -42.063      14.975\n",
      "dmy_1/4/11                       -6.3590     16.292     -0.390      0.696     -38.296      25.578\n",
      "dmy_1/5/11                        3.8773     14.834      0.261      0.794     -25.200      32.954\n",
      "dmy_1/6/11                       -0.3615     15.415     -0.023      0.981     -30.579      29.856\n",
      "dmy_1/7/11                      -11.9987     15.053     -0.797      0.425     -41.505      17.508\n",
      "dmy_1/8/11                      -10.4184     14.889     -0.700      0.484     -39.603      18.766\n",
      "dmy_1/9/11                      -29.6984     15.179     -1.957      0.050     -59.452       0.055\n",
      "dmy_2/1/11                      -10.0734     10.253     -0.982      0.326     -30.172      10.025\n",
      "dmy_2/10/11                      18.5749     10.158      1.829      0.067      -1.337      38.486\n",
      "dmy_2/11/11                      -5.4947     10.009     -0.549      0.583     -25.114      14.125\n",
      "dmy_2/12/11                      -2.0974     10.119     -0.207      0.836     -21.932      17.737\n",
      "dmy_2/13/11                      35.5164     10.568      3.361      0.001      14.801      56.232\n",
      "dmy_2/14/11                     -13.1851      9.355     -1.409      0.159     -31.522       5.152\n",
      "dmy_2/15/11                       0.1423     10.877      0.013      0.990     -21.178      21.463\n",
      "dmy_2/16/11                     -10.0193     10.462     -0.958      0.338     -30.528      10.489\n",
      "dmy_2/17/11                      17.9058     10.788      1.660      0.097      -3.241      39.053\n",
      "dmy_2/18/11                      -3.3632     10.154     -0.331      0.740     -23.267      16.541\n",
      "dmy_2/19/11                       6.6476     10.133      0.656      0.512     -13.215      26.510\n",
      "dmy_2/2/11                       19.3695      9.945      1.948      0.051      -0.125      38.864\n",
      "dmy_2/20/11                       9.3331     10.940      0.853      0.394     -12.111      30.777\n",
      "dmy_2/21/11                       9.8405     10.205      0.964      0.335     -10.163      29.844\n",
      "dmy_2/22/11                       8.0139     10.089      0.794      0.427     -11.763      27.791\n",
      "dmy_2/23/11                     -17.7855     10.098     -1.761      0.078     -37.579       2.008\n",
      "dmy_2/24/11                     -15.1874     10.497     -1.447      0.148     -35.765       5.390\n",
      "dmy_2/25/11                      -0.3116      9.852     -0.032      0.975     -19.624      19.000\n",
      "dmy_2/26/11                      -5.3183      9.813     -0.542      0.588     -24.554      13.917\n",
      "dmy_2/27/11                      18.7154      9.715      1.926      0.054      -0.329      37.760\n",
      "dmy_2/28/11                     -14.2484      9.836     -1.449      0.147     -33.529       5.032\n",
      "dmy_2/3/11                      -13.0425      9.750     -1.338      0.181     -32.154       6.069\n",
      "dmy_2/4/11                       27.7937      9.624      2.888      0.004       8.928      46.659\n",
      "dmy_2/5/11                        9.2513     10.102      0.916      0.360     -10.550      29.053\n",
      "dmy_2/6/11                        3.0466     10.511      0.290      0.772     -17.558      23.651\n",
      "dmy_2/7/11                       15.1051      9.666      1.563      0.118      -3.842      34.052\n",
      "dmy_2/8/11                       12.1067     11.215      1.079      0.280      -9.878      34.091\n",
      "dmy_2/9/11                       -7.7699     10.277     -0.756      0.450     -27.915      12.375\n",
      "dmy_jan                           8.9051     10.701      0.832      0.405     -12.071      29.881\n",
      "dmy_employed                     -7.9004      6.885     -1.148      0.251     -21.396       5.595\n",
      "dmy_medical leave                12.1850      8.792      1.386      0.166      -5.049      29.419\n",
      "dmy_retired                      -5.4754     10.412     -0.526      0.599     -25.886      14.935\n",
      "dmy_unemployed                   77.7612      7.284     10.675      0.000      63.483      92.040\n",
      "dmy_m                            10.9292      2.713      4.028      0.000       5.611      16.247\n",
      "dmy_suburban                    371.7090      3.863     96.225      0.000     364.137     379.281\n",
      "dmy_urban                       218.6530      4.405     49.639      0.000     210.019     227.287\n",
      "dmy_married                      -6.3607      4.027     -1.580      0.114     -14.254       1.532\n",
      "dmy_single                       62.9118      4.631     13.586      0.000      53.835      71.989\n",
      "dmy_personal auto                 4.0028      5.171      0.774      0.439      -6.134      14.140\n",
      "dmy_special auto                 16.3104      7.381      2.210      0.027       1.842      30.779\n",
      "dmy_corporate l2                 -4.1430      8.492     -0.488      0.626     -20.789      12.503\n",
      "dmy_corporate l3                 -1.4918      7.771     -0.192      0.848     -16.725      13.741\n",
      "dmy_personal l1                   4.8074      3.306      1.454      0.146      -1.674      11.289\n",
      "dmy_personal l2                  -1.5470      2.879     -0.537      0.591      -7.191       4.097\n",
      "dmy_personal l3                   0.7424      2.604      0.285      0.776      -4.362       5.847\n",
      "dmy_special l1                   35.5262     12.485      2.846      0.004      11.053      59.999\n",
      "dmy_special l2                   -5.4286      9.054     -0.600      0.549     -23.177      12.320\n",
      "dmy_special l3                  -13.7872      9.578     -1.439      0.150     -32.562       4.987\n",
      "dmy_offer2                       14.2885      3.396      4.207      0.000       7.632      20.945\n",
      "dmy_offer3                        3.5139      4.039      0.870      0.384      -4.404      11.432\n",
      "dmy_offer4                        8.6411      4.781      1.808      0.071      -0.730      18.012\n",
      "dmy_branch                        2.1244      3.361      0.632      0.527      -4.463       8.712\n",
      "dmy_call center                  -1.4536      3.780     -0.385      0.701      -8.862       5.955\n",
      "dmy_web                           3.3689      4.179      0.806      0.420      -4.823      11.561\n",
      "dmy_luxury car                   64.9356     19.520      3.327      0.001      26.673     103.198\n",
      "dmy_luxury suv                   16.5402     20.294      0.815      0.415     -23.240      56.321\n",
      "dmy_sports car                  -23.6135      8.267     -2.856      0.004     -39.819      -7.408\n",
      "dmy_suv                         -16.0972      6.437     -2.501      0.012     -28.715      -3.479\n",
      "dmy_two-door car                 -0.2713      3.464     -0.078      0.938      -7.061       6.519\n",
      "dmy_medsize                      -1.7602      4.453     -0.395      0.693     -10.489       6.969\n",
      "dmy_small                         8.4677      5.200      1.628      0.103      -1.726      18.661\n",
      "==============================================================================\n",
      "Omnibus:                     3480.736   Durbin-Watson:                   1.971\n",
      "Prob(Omnibus):                  0.000   Jarque-Bera (JB):            26842.123\n",
      "Skew:                           1.527   Prob(JB):                         0.00\n",
      "Kurtosis:                      10.586   Cond. No.                     3.39e+16\n",
      "==============================================================================\n",
      "\n",
      "Notes:\n",
      "[1] Standard Errors assume that the covariance matrix of the errors is correctly specified.\n",
      "[2] The smallest eigenvalue is 4.3e-29. This might indicate that there are\n",
      "strong multicollinearity problems or that the design matrix is singular.\n"
     ]
    }
   ],
   "source": [
    "print(model.summary()) # only slightly better R2 -> 0.770 without removing outliers and 0.747 removing outliers"
   ]
  },
  {
   "cell_type": "code",
   "execution_count": 57,
   "id": "e5d47f86",
   "metadata": {},
   "outputs": [
    {
     "name": "stdout",
     "output_type": "stream",
     "text": [
      "0.7921129522929404\n"
     ]
    }
   ],
   "source": [
    "# R2 of the test set:\n",
    "\n",
    "print(r2_score(y_test, y_pred_test))"
   ]
  }
 ],
 "metadata": {
  "kernelspec": {
   "display_name": "Python 3 (ipykernel)",
   "language": "python",
   "name": "python3"
  },
  "language_info": {
   "codemirror_mode": {
    "name": "ipython",
    "version": 3
   },
   "file_extension": ".py",
   "mimetype": "text/x-python",
   "name": "python",
   "nbconvert_exporter": "python",
   "pygments_lexer": "ipython3",
   "version": "3.9.13"
  }
 },
 "nbformat": 4,
 "nbformat_minor": 5
}
