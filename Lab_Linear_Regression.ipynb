{
 "cells": [
  {
   "cell_type": "markdown",
   "id": "d6c6cfd3",
   "metadata": {},
   "source": [
    "# Linear Regression Lab"
   ]
  },
  {
   "cell_type": "code",
   "execution_count": 1,
   "id": "69aa40c0",
   "metadata": {},
   "outputs": [],
   "source": [
    "import numpy as np\n",
    "import pandas as pd\n",
    "import matplotlib.pyplot as plt\n",
    "%matplotlib inline\n",
    "import seaborn as sns\n",
    "from sklearn.preprocessing import StandardScaler\n",
    "from sklearn.compose import ColumnTransformer\n",
    "from sklearn.linear_model import LinearRegression\n",
    "from sklearn.model_selection import train_test_split\n",
    "\n",
    "import statsmodels.api as sm\n",
    "from sklearn.metrics import r2_score\n",
    "from sklearn.metrics import mean_squared_error as mse\n",
    "from sklearn.metrics import mean_absolute_error as mae\n",
    "pd.options.display.max_rows = 50"
   ]
  },
  {
   "cell_type": "code",
   "execution_count": 2,
   "id": "4ff662e0",
   "metadata": {},
   "outputs": [],
   "source": [
    "clean_df = pd.read_csv(\"Data_Marketing_Customer_Analysis_Round3.csv\")\n",
    "\n",
    "RAND_STATE = 34 # for reproducible shuffling"
   ]
  },
  {
   "cell_type": "code",
   "execution_count": 3,
   "id": "82b80158",
   "metadata": {},
   "outputs": [],
   "source": [
    "# Using the np.number and object methods to segregate the numerical data types and categorical data types\n",
    "# respectively, since for now we will only use the numerical variables.\n",
    "\n",
    "numerical_df = clean_df.select_dtypes(include=np.number)\n",
    "categorical_df = clean_df.select_dtypes(include=object)"
   ]
  },
  {
   "cell_type": "markdown",
   "id": "3ee6b352",
   "metadata": {},
   "source": [
    "### Tuesday (31.01.2023)\n",
    "\n",
    "\n",
    "#### Activity 1:\n",
    "X-y split (y is the target variable, which is the total claim amount)."
   ]
  },
  {
   "cell_type": "code",
   "execution_count": 4,
   "id": "5a903bfe",
   "metadata": {},
   "outputs": [],
   "source": [
    "X = numerical_df.drop(['total_claim_amount'], axis = 1)\n",
    "y = numerical_df.total_claim_amount"
   ]
  },
  {
   "cell_type": "markdown",
   "id": "d1a9defb",
   "metadata": {},
   "source": [
    "#### Activity 2:\n",
    "Train-test split."
   ]
  },
  {
   "cell_type": "code",
   "execution_count": 11,
   "id": "83cd9880",
   "metadata": {},
   "outputs": [],
   "source": [
    "X_train, X_test, y_train, y_test = train_test_split(X, y, test_size = 30, random_state = RAND_STATE)\n",
    "X_train = pd.DataFrame(X_train)\n",
    "X_test = pd.DataFrame(X_test)"
   ]
  },
  {
   "cell_type": "markdown",
   "id": "5b87f6f9",
   "metadata": {},
   "source": [
    "#### Activity 3:\n",
    "Standardize the data (after the data split)."
   ]
  },
  {
   "cell_type": "code",
   "execution_count": 7,
   "id": "3aef61f8",
   "metadata": {},
   "outputs": [],
   "source": [
    "scaler = StandardScaler()\n",
    "X_train_s = scaler.fit_transform(X_train) # get the parameters using the train set and apply to them"
   ]
  },
  {
   "cell_type": "code",
   "execution_count": 8,
   "id": "1e3d9266",
   "metadata": {},
   "outputs": [],
   "source": [
    "X_test_s = scaler.transform(X_test) # apply the parameters of the train set to the test set\n",
    "\n",
    "# You don't transform the target feature."
   ]
  },
  {
   "cell_type": "markdown",
   "id": "c6e37e3b",
   "metadata": {},
   "source": [
    "#### Activity 4:\n",
    "Apply linear regression."
   ]
  },
  {
   "cell_type": "code",
   "execution_count": 9,
   "id": "5139a087",
   "metadata": {},
   "outputs": [],
   "source": [
    "X_train_const = sm.add_constant(X_train_s)\n",
    "\n",
    "model = sm.OLS(y_train, X_train_const).fit()\n",
    "predictions_train = model.predict(X_train_const)\n",
    "\n",
    "X_test_const = sm.add_constant(X_test_s)\n",
    "predictions_test = model.predict(X_test_const)\n"
   ]
  },
  {
   "cell_type": "markdown",
   "id": "f1fa77f0",
   "metadata": {},
   "source": [
    "#### Activity 5:\n",
    "Model Interpretation."
   ]
  },
  {
   "cell_type": "code",
   "execution_count": 10,
   "id": "20c7ba3d",
   "metadata": {},
   "outputs": [
    {
     "name": "stdout",
     "output_type": "stream",
     "text": [
      "                            OLS Regression Results                            \n",
      "==============================================================================\n",
      "Dep. Variable:     total_claim_amount   R-squared:                       0.410\n",
      "Model:                            OLS   Adj. R-squared:                  0.410\n",
      "Method:                 Least Squares   F-statistic:                     1058.\n",
      "Date:                Wed, 01 Feb 2023   Prob (F-statistic):               0.00\n",
      "Time:                        09:40:53   Log-Likelihood:                -72834.\n",
      "No. Observations:               10659   AIC:                         1.457e+05\n",
      "Df Residuals:                   10651   BIC:                         1.457e+05\n",
      "Df Model:                           7                                         \n",
      "Covariance Type:            nonrobust                                         \n",
      "==============================================================================\n",
      "                 coef    std err          t      P>|t|      [0.025      0.975]\n",
      "------------------------------------------------------------------------------\n",
      "const        434.2805      2.176    199.587      0.000     430.015     438.546\n",
      "x1            -7.3793      2.382     -3.098      0.002     -12.049      -2.710\n",
      "x2           -31.8131      2.177    -14.612      0.000     -36.081     -27.546\n",
      "x3           187.3009      2.381     78.663      0.000     182.634     191.968\n",
      "x4             1.2603      2.178      0.579      0.563      -3.009       5.530\n",
      "x5            -1.9659      2.178     -0.903      0.367      -6.235       2.303\n",
      "x6            -1.0056      2.177     -0.462      0.644      -5.274       3.263\n",
      "x7             1.1484      2.177      0.527      0.598      -3.119       5.416\n",
      "==============================================================================\n",
      "Omnibus:                     1215.324   Durbin-Watson:                   1.996\n",
      "Prob(Omnibus):                  0.000   Jarque-Bera (JB):             6032.963\n",
      "Skew:                           0.449   Prob(JB):                         0.00\n",
      "Kurtosis:                       6.575   Cond. No.                         1.54\n",
      "==============================================================================\n",
      "\n",
      "Notes:\n",
      "[1] Standard Errors assume that the covariance matrix of the errors is correctly specified.\n"
     ]
    }
   ],
   "source": [
    "print(model.summary())"
   ]
  }
 ],
 "metadata": {
  "kernelspec": {
   "display_name": "Python 3 (ipykernel)",
   "language": "python",
   "name": "python3"
  },
  "language_info": {
   "codemirror_mode": {
    "name": "ipython",
    "version": 3
   },
   "file_extension": ".py",
   "mimetype": "text/x-python",
   "name": "python",
   "nbconvert_exporter": "python",
   "pygments_lexer": "ipython3",
   "version": "3.9.13"
  }
 },
 "nbformat": 4,
 "nbformat_minor": 5
}
