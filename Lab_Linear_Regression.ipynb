{
 "cells": [
  {
   "cell_type": "markdown",
   "id": "9a113b61",
   "metadata": {},
   "source": [
    "# Linear Regression Lab"
   ]
  },
  {
   "cell_type": "code",
   "execution_count": 18,
   "id": "69aa40c0",
   "metadata": {},
   "outputs": [],
   "source": [
    "import numpy as np\n",
    "import pandas as pd\n",
    "import matplotlib.pyplot as plt\n",
    "%matplotlib inline\n",
    "import seaborn as sns\n",
    "from sklearn.preprocessing import StandardScaler\n",
    "from sklearn.compose import ColumnTransformer\n",
    "from sklearn.linear_model import LinearRegression\n",
    "from sklearn.model_selection import train_test_split\n",
    "\n",
    "import statsmodels.api as sm\n",
    "from sklearn.metrics import r2_score\n",
    "from sklearn.metrics import mean_squared_error as mse\n",
    "from sklearn.metrics import mean_absolute_error as mae\n",
    "pd.options.display.max_rows = 50"
   ]
  },
  {
   "cell_type": "code",
   "execution_count": 4,
   "id": "4ff662e0",
   "metadata": {},
   "outputs": [
    {
     "name": "stdout",
     "output_type": "stream",
     "text": [
      "<class 'pandas.core.frame.DataFrame'>\n",
      "RangeIndex: 10689 entries, 0 to 10688\n",
      "Data columns (total 24 columns):\n",
      " #   Column                         Non-Null Count  Dtype \n",
      "---  ------                         --------------  ----- \n",
      " 0   region                         10689 non-null  object\n",
      " 1   customer_lifetime_value        10689 non-null  int64 \n",
      " 2   response                       10689 non-null  object\n",
      " 3   coverage                       10689 non-null  object\n",
      " 4   education                      10689 non-null  object\n",
      " 5   effective_to_date              10689 non-null  object\n",
      " 6   month                          10689 non-null  object\n",
      " 7   employment_status              10689 non-null  object\n",
      " 8   gender                         10689 non-null  object\n",
      " 9   income                         10689 non-null  int64 \n",
      " 10  location_code                  10689 non-null  object\n",
      " 11  marital_status                 10689 non-null  object\n",
      " 12  monthly_premium_auto           10689 non-null  int64 \n",
      " 13  months_since_last_claim        10689 non-null  int64 \n",
      " 14  months_since_policy_inception  10689 non-null  int64 \n",
      " 15  number_of_open_complaints      10689 non-null  int64 \n",
      " 16  number_of_policies             10689 non-null  int64 \n",
      " 17  policy_type                    10689 non-null  object\n",
      " 18  policy                         10689 non-null  object\n",
      " 19  renew_offer_type               10689 non-null  object\n",
      " 20  sales_channel                  10689 non-null  object\n",
      " 21  total_claim_amount             10689 non-null  int64 \n",
      " 22  vehicle_class                  10689 non-null  object\n",
      " 23  vehicle_size                   10689 non-null  object\n",
      "dtypes: int64(8), object(16)\n",
      "memory usage: 2.0+ MB\n"
     ]
    }
   ],
   "source": [
    "clean_df = pd.read_csv(\"Data_Marketing_Customer_Analysis_Round3.csv\")\n",
    "clean_df\n",
    "clean_df.info()"
   ]
  },
  {
   "cell_type": "code",
   "execution_count": 9,
   "id": "82b80158",
   "metadata": {},
   "outputs": [],
   "source": [
    "# Using the np.number and object methods to segregate the numerical data types and categorical data types\n",
    "# respectively, since for now we will only use the numerical variables.\n",
    "\n",
    "numerical_df = clean_df.select_dtypes(include=np.number)\n",
    "categorical_df = clean_df.select_dtypes(include=object)"
   ]
  },
  {
   "cell_type": "markdown",
   "id": "2399ad21",
   "metadata": {},
   "source": [
    "### Tuesday (31.01.2023)\n",
    "\n",
    "\n",
    "#### Activity 1:\n",
    "X-y split (y is the target variable, which is the total claim amount)."
   ]
  },
  {
   "cell_type": "code",
   "execution_count": 14,
   "id": "963f9a49",
   "metadata": {},
   "outputs": [],
   "source": [
    "X = numerical_df.drop(['total_claim_amount'], axis = 1)\n",
    "y = numerical_df.total_claim_amount"
   ]
  },
  {
   "cell_type": "markdown",
   "id": "e59afbff",
   "metadata": {},
   "source": [
    "#### Activity 2:\n",
    "Train-test split."
   ]
  },
  {
   "cell_type": "code",
   "execution_count": 16,
   "id": "3c9a2501",
   "metadata": {},
   "outputs": [],
   "source": [
    "X_train, X_test, y_train, y_test = train_test_split(X, y, test_size=30)\n",
    "X_train = pd.DataFrame(X_train)\n",
    "X_test = pd.DataFrame(X_test)"
   ]
  },
  {
   "cell_type": "markdown",
   "id": "42a7b128",
   "metadata": {},
   "source": [
    "#### Activity 3:\n",
    "Standardize the data (after the data split)."
   ]
  },
  {
   "cell_type": "code",
   "execution_count": 34,
   "id": "2a6efacf",
   "metadata": {},
   "outputs": [],
   "source": [
    "scaler = StandardScaler()\n",
    "X_train_s = scaler.fit_transform(X_train)"
   ]
  },
  {
   "cell_type": "code",
   "execution_count": 35,
   "id": "b1a3696f",
   "metadata": {},
   "outputs": [],
   "source": [
    "X_test_s = scaler.transform(X_test)"
   ]
  },
  {
   "cell_type": "markdown",
   "id": "847f0215",
   "metadata": {},
   "source": [
    "#### Activity 4:\n",
    "Apply linear regression."
   ]
  },
  {
   "cell_type": "code",
   "execution_count": 38,
   "id": "d7e42e8b",
   "metadata": {},
   "outputs": [],
   "source": [
    "X_train_const = sm.add_constant(X_train_s)\n",
    "\n",
    "model = sm.OLS(y_train, X_train_const).fit()\n",
    "predictions_train = model.predict(X_train_const)\n",
    "\n",
    "X_test_const = sm.add_constant(X_test_s)\n",
    "predictions_test = model.predict(X_test_const)\n"
   ]
  },
  {
   "cell_type": "markdown",
   "id": "7b2169f6",
   "metadata": {},
   "source": [
    "#### Activity 4:\n",
    "Model Interpretation."
   ]
  },
  {
   "cell_type": "code",
   "execution_count": 40,
   "id": "fb129103",
   "metadata": {},
   "outputs": [
    {
     "name": "stdout",
     "output_type": "stream",
     "text": [
      "                            OLS Regression Results                            \n",
      "==============================================================================\n",
      "Dep. Variable:     total_claim_amount   R-squared:                       0.410\n",
      "Model:                            OLS   Adj. R-squared:                  0.409\n",
      "Method:                 Least Squares   F-statistic:                     1056.\n",
      "Date:                Tue, 31 Jan 2023   Prob (F-statistic):               0.00\n",
      "Time:                        17:15:40   Log-Likelihood:                -72842.\n",
      "No. Observations:               10659   AIC:                         1.457e+05\n",
      "Df Residuals:                   10651   BIC:                         1.458e+05\n",
      "Df Model:                           7                                         \n",
      "Covariance Type:            nonrobust                                         \n",
      "==============================================================================\n",
      "                 coef    std err          t      P>|t|      [0.025      0.975]\n",
      "------------------------------------------------------------------------------\n",
      "const        434.0895      2.178    199.348      0.000     429.821     438.358\n",
      "x1            -7.4499      2.382     -3.127      0.002     -12.120      -2.780\n",
      "x2           -31.9853      2.179    -14.680      0.000     -36.256     -27.714\n",
      "x3           187.2511      2.381     78.630      0.000     182.583     191.919\n",
      "x4             1.4891      2.180      0.683      0.495      -2.784       5.762\n",
      "x5            -2.1712      2.179     -0.996      0.319      -6.443       2.101\n",
      "x6            -1.0477      2.179     -0.481      0.631      -5.319       3.224\n",
      "x7             1.0368      2.179      0.476      0.634      -3.234       5.308\n",
      "==============================================================================\n",
      "Omnibus:                     1219.020   Durbin-Watson:                   2.025\n",
      "Prob(Omnibus):                  0.000   Jarque-Bera (JB):             6046.290\n",
      "Skew:                           0.451   Prob(JB):                         0.00\n",
      "Kurtosis:                       6.578   Cond. No.                         1.54\n",
      "==============================================================================\n",
      "\n",
      "Notes:\n",
      "[1] Standard Errors assume that the covariance matrix of the errors is correctly specified.\n"
     ]
    }
   ],
   "source": [
    "print(model.summary())"
   ]
  }
 ],
 "metadata": {
  "kernelspec": {
   "display_name": "Python 3 (ipykernel)",
   "language": "python",
   "name": "python3"
  },
  "language_info": {
   "codemirror_mode": {
    "name": "ipython",
    "version": 3
   },
   "file_extension": ".py",
   "mimetype": "text/x-python",
   "name": "python",
   "nbconvert_exporter": "python",
   "pygments_lexer": "ipython3",
   "version": "3.9.13"
  }
 },
 "nbformat": 4,
 "nbformat_minor": 5
}
